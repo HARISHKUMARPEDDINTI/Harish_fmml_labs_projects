{
  "cells": [
    {
      "cell_type": "markdown",
      "metadata": {
        "id": "view-in-github",
        "colab_type": "text"
      },
      "source": [
        "<a href=\"https://colab.research.google.com/github/HARISHKUMARPEDDINTI/Harish_fmml_labs_projects/blob/main/FMML_M1L2.ipynb\" target=\"_parent\"><img src=\"https://colab.research.google.com/assets/colab-badge.svg\" alt=\"Open In Colab\"/></a>"
      ]
    },
    {
      "cell_type": "markdown",
      "metadata": {
        "id": "3Eu9VZbF01eq"
      },
      "source": [
        "# Machine Learning terms and metrics\n",
        "\n",
        "FMML Module 1, Lab 2\n",
        "\n",
        "In this lab, we will show a part of the ML pipeline by using the California Housing dataset. There are 20640 samples, each with 8 attributes like income of the block, age of the houses per district etc. The task is to predict the cost of the houses per district. We will use the scikit-learn library to load the data and perform some basic data preprocessing and model training. We will also show how to evaluate the model using some common metrics, split the data into training and testing sets, and use cross-validation to get a better estimate of the model's performance."
      ]
    },
    {
      "cell_type": "code",
      "execution_count": 1,
      "metadata": {
        "id": "8qBvyEem0vLi"
      },
      "outputs": [],
      "source": [
        "import numpy as np\n",
        "from sklearn import datasets\n",
        "import matplotlib.pyplot as plt\n",
        "\n",
        "rng = np.random.default_rng(seed=42)"
      ]
    },
    {
      "cell_type": "code",
      "execution_count": 2,
      "metadata": {
        "colab": {
          "base_uri": "https://localhost:8080/"
        },
        "id": "8LpqjN991GGJ",
        "outputId": "ab5274cb-0142-4d01-e0b5-da4d8e2240d6"
      },
      "outputs": [
        {
          "output_type": "stream",
          "name": "stdout",
          "text": [
            ".. _california_housing_dataset:\n",
            "\n",
            "California Housing dataset\n",
            "--------------------------\n",
            "\n",
            "**Data Set Characteristics:**\n",
            "\n",
            ":Number of Instances: 20640\n",
            "\n",
            ":Number of Attributes: 8 numeric, predictive attributes and the target\n",
            "\n",
            ":Attribute Information:\n",
            "    - MedInc        median income in block group\n",
            "    - HouseAge      median house age in block group\n",
            "    - AveRooms      average number of rooms per household\n",
            "    - AveBedrms     average number of bedrooms per household\n",
            "    - Population    block group population\n",
            "    - AveOccup      average number of household members\n",
            "    - Latitude      block group latitude\n",
            "    - Longitude     block group longitude\n",
            "\n",
            ":Missing Attribute Values: None\n",
            "\n",
            "This dataset was obtained from the StatLib repository.\n",
            "https://www.dcc.fc.up.pt/~ltorgo/Regression/cal_housing.html\n",
            "\n",
            "The target variable is the median house value for California districts,\n",
            "expressed in hundreds of thousands of dollars ($100,000).\n",
            "\n",
            "This dataset was derived from the 1990 U.S. census, using one row per census\n",
            "block group. A block group is the smallest geographical unit for which the U.S.\n",
            "Census Bureau publishes sample data (a block group typically has a population\n",
            "of 600 to 3,000 people).\n",
            "\n",
            "A household is a group of people residing within a home. Since the average\n",
            "number of rooms and bedrooms in this dataset are provided per household, these\n",
            "columns may take surprisingly large values for block groups with few households\n",
            "and many empty houses, such as vacation resorts.\n",
            "\n",
            "It can be downloaded/loaded using the\n",
            ":func:`sklearn.datasets.fetch_california_housing` function.\n",
            "\n",
            ".. rubric:: References\n",
            "\n",
            "- Pace, R. Kelley and Ronald Barry, Sparse Spatial Autoregressions,\n",
            "  Statistics and Probability Letters, 33 (1997) 291-297\n",
            "\n"
          ]
        }
      ],
      "source": [
        "dataset = datasets.fetch_california_housing()\n",
        "# Dataset description\n",
        "print(dataset.DESCR)"
      ]
    },
    {
      "cell_type": "markdown",
      "metadata": {
        "id": "PCe1VNftevgE"
      },
      "source": [
        "Given below are the list of target values. These correspond to the house value derived considering all the 8 input features and are continuous values. We should use regression models to predict these values but we will start with a simple classification model for the sake of simplicity. We need to just round off the values to the nearest integer and use a classification model to predict the house value."
      ]
    },
    {
      "cell_type": "code",
      "execution_count": 3,
      "metadata": {
        "colab": {
          "base_uri": "https://localhost:8080/"
        },
        "id": "F8K0ggBOevgE",
        "outputId": "f929b396-67a0-4fa5-8029-eede018c2d2d"
      },
      "outputs": [
        {
          "output_type": "stream",
          "name": "stdout",
          "text": [
            "Orignal target values: [4.526 3.585 3.521 ... 0.923 0.847 0.894]\n",
            "Target values after conversion: [4 3 3 ... 0 0 0]\n",
            "Input variables shape: (20640, 8)\n",
            "Output variables shape: (20640,)\n"
          ]
        }
      ],
      "source": [
        "print(\"Orignal target values:\", dataset.target)\n",
        "\n",
        "dataset.target = dataset.target.astype(int)\n",
        "\n",
        "print(\"Target values after conversion:\", dataset.target)\n",
        "print(\"Input variables shape:\", dataset.data.shape)\n",
        "print(\"Output variables shape:\", dataset.target.shape)"
      ]
    },
    {
      "cell_type": "markdown",
      "metadata": {
        "id": "iNx4174W5xRg"
      },
      "source": [
        "The simplest model to use for classification is the K-Nearest Neighbors model. We will use this model to predict the house value with a K value of 1. We will also use the accuracy metric to evaluate the model."
      ]
    },
    {
      "cell_type": "code",
      "execution_count": 4,
      "metadata": {
        "id": "07zpydQj1hIQ"
      },
      "outputs": [],
      "source": [
        "def NN1(traindata, trainlabel, query):\n",
        "    \"\"\"\n",
        "    This function takes in the training data, training labels and a query point\n",
        "    and returns the predicted label for the query point using the nearest neighbour algorithm\n",
        "\n",
        "    traindata: numpy array of shape (n,d) where n is the number of samples and d is the number of features\n",
        "    trainlabel: numpy array of shape (n,) where n is the number of samples\n",
        "    query: numpy array of shape (d,) where d is the number of features\n",
        "\n",
        "    returns: the predicted label for the query point which is the label of the training data which is closest to the query point\n",
        "    \"\"\"\n",
        "    diff = (\n",
        "        traindata - query\n",
        "    )  # find the difference between features. Numpy automatically takes care of the size here\n",
        "    sq = diff * diff  # square the differences\n",
        "    dist = sq.sum(1)  # add up the squares\n",
        "    label = trainlabel[np.argmin(dist)]\n",
        "    return label\n",
        "\n",
        "\n",
        "def NN(traindata, trainlabel, testdata):\n",
        "    \"\"\"\n",
        "    This function takes in the training data, training labels and test data\n",
        "    and returns the predicted labels for the test data using the nearest neighbour algorithm\n",
        "\n",
        "    traindata: numpy array of shape (n,d) where n is the number of samples and d is the number of features\n",
        "    trainlabel: numpy array of shape (n,) where n is the number of samples\n",
        "    testdata: numpy array of shape (m,d) where m is the number of test samples and d is the number of features\n",
        "\n",
        "    returns: the predicted labels for the test data which is the label of the training data which is closest to each test point\n",
        "    \"\"\"\n",
        "    predlabel = np.array([NN1(traindata, trainlabel, i) for i in testdata])\n",
        "    return predlabel"
      ]
    },
    {
      "cell_type": "markdown",
      "metadata": {
        "id": "03JktkfIGaje"
      },
      "source": [
        "We will also define a 'random classifier', which randomly allots labels to each sample"
      ]
    },
    {
      "cell_type": "code",
      "execution_count": 5,
      "metadata": {
        "id": "fogWAtjyGhAH"
      },
      "outputs": [],
      "source": [
        "def RandomClassifier(traindata, trainlabel, testdata):\n",
        "    \"\"\"\n",
        "    This function takes in the training data, training labels and test data\n",
        "    and returns the predicted labels for the test data using the random classifier algorithm\n",
        "\n",
        "    In reality, we don't need these arguments but we are passing them to keep the function signature consistent with other classifiers\n",
        "\n",
        "    traindata: numpy array of shape (n,d) where n is the number of samples and d is the number of features\n",
        "    trainlabel: numpy array of shape (n,) where n is the number of samples\n",
        "    testdata: numpy array of shape (m,d) where m is the number of test samples and d is the number of features\n",
        "\n",
        "    returns: the predicted labels for the test data which is a random label from the training data\n",
        "    \"\"\"\n",
        "\n",
        "    classes = np.unique(trainlabel)\n",
        "    rints = rng.integers(low=0, high=len(classes), size=len(testdata))\n",
        "    predlabel = classes[rints]\n",
        "    return predlabel"
      ]
    },
    {
      "cell_type": "markdown",
      "metadata": {
        "id": "1Hjf1KHs7fU5"
      },
      "source": [
        "We need a metric to evaluate the performance of the model. Let us define a metric 'Accuracy' to see how good our learning algorithm is. Accuracy is the ratio of the number of correctly classified samples to the total number of samples. The higher the accuracy, the better the algorithm. We will use the accuracy metric to evaluate and compate the performance of the K-Nearest Neighbors model and the random classifier."
      ]
    },
    {
      "cell_type": "code",
      "execution_count": 6,
      "metadata": {
        "id": "ouuCqWU07bz-"
      },
      "outputs": [],
      "source": [
        "def Accuracy(gtlabel, predlabel):\n",
        "    \"\"\"\n",
        "    This function takes in the ground-truth labels and predicted labels\n",
        "    and returns the accuracy of the classifier\n",
        "\n",
        "    gtlabel: numpy array of shape (n,) where n is the number of samples\n",
        "    predlabel: numpy array of shape (n,) where n is the number of samples\n",
        "\n",
        "    returns: the accuracy of the classifier which is the number of correct predictions divided by the total number of predictions\n",
        "    \"\"\"\n",
        "    assert len(gtlabel) == len(\n",
        "        predlabel\n",
        "    ), \"Length of the ground-truth labels and predicted labels should be the same\"\n",
        "    correct = (\n",
        "        gtlabel == predlabel\n",
        "    ).sum()  # count the number of times the groundtruth label is equal to the predicted label.\n",
        "    return correct / len(gtlabel)"
      ]
    },
    {
      "cell_type": "markdown",
      "metadata": {
        "id": "4vJFwBFa9Klw"
      },
      "source": [
        "Let us make a function to split the dataset with the desired probability. We will use this function to split the dataset into training and testing sets. We will use the training set to train the model and the testing set to evaluate the model."
      ]
    },
    {
      "cell_type": "code",
      "execution_count": 7,
      "metadata": {
        "id": "Ko0VzpSM2Tdi"
      },
      "outputs": [],
      "source": [
        "def split(data, label, percent):\n",
        "    # generate a random number for each sample\n",
        "    rnd = rng.random(len(label))\n",
        "    split1 = rnd < percent\n",
        "    split2 = rnd >= percent\n",
        "\n",
        "    split1data = data[split1, :]\n",
        "    split1label = label[split1]\n",
        "    split2data = data[split2, :]\n",
        "    split2label = label[split2]\n",
        "    return split1data, split1label, split2data, split2label"
      ]
    },
    {
      "cell_type": "markdown",
      "metadata": {
        "id": "AcK3LEAJ_LGC"
      },
      "source": [
        "We will reserve 20% of our dataset as the test set. We will not change this portion throughout our experiments"
      ]
    },
    {
      "cell_type": "code",
      "execution_count": 8,
      "metadata": {
        "colab": {
          "base_uri": "https://localhost:8080/"
        },
        "id": "bBZkHBLJ1iU-",
        "outputId": "5186e1c6-1d90-4a3f-83a3-c9f2c2af5785"
      },
      "outputs": [
        {
          "output_type": "stream",
          "name": "stdout",
          "text": [
            "Number of test samples: 4144\n",
            "Number of train samples: 16496\n",
            "Percent of test data: 20.07751937984496 %\n"
          ]
        }
      ],
      "source": [
        "testdata, testlabel, alltraindata, alltrainlabel = split(\n",
        "    dataset.data, dataset.target, 20 / 100\n",
        ")\n",
        "print(\"Number of test samples:\", len(testlabel))\n",
        "print(\"Number of train samples:\", len(alltrainlabel))\n",
        "print(\"Percent of test data:\", len(testlabel) * 100 / len(dataset.target), \"%\")"
      ]
    },
    {
      "cell_type": "markdown",
      "metadata": {
        "id": "a6Ss0Z6IAGNV"
      },
      "source": [
        "## Experiments with splits\n",
        "\n",
        "Let us reserve some of our train data as a validation set"
      ]
    },
    {
      "cell_type": "code",
      "execution_count": 9,
      "metadata": {
        "id": "WFew2iry_7W7"
      },
      "outputs": [],
      "source": [
        "traindata, trainlabel, valdata, vallabel = split(\n",
        "    alltraindata, alltrainlabel, 75 / 100)"
      ]
    },
    {
      "cell_type": "markdown",
      "metadata": {
        "id": "60hiu4clFN1i"
      },
      "source": [
        "What is the accuracy of our classifiers on the train dataset?"
      ]
    },
    {
      "cell_type": "code",
      "execution_count": 10,
      "metadata": {
        "colab": {
          "base_uri": "https://localhost:8080/"
        },
        "id": "DBlZDTHUFTZx",
        "outputId": "c1551c19-e731-41fc-bb64-30b7d6df143b"
      },
      "outputs": [
        {
          "output_type": "stream",
          "name": "stdout",
          "text": [
            "Training accuracy using nearest neighbour algorithm: 100.0 %\n",
            "Training accuracy using random classifier:  16.4375808538163 %\n"
          ]
        }
      ],
      "source": [
        "trainpred = NN(traindata, trainlabel, traindata)\n",
        "trainAccuracy = Accuracy(trainlabel, trainpred)\n",
        "print(\"Training accuracy using nearest neighbour algorithm:\", trainAccuracy*100, \"%\")\n",
        "\n",
        "trainpred = RandomClassifier(traindata, trainlabel, traindata)\n",
        "trainAccuracy = Accuracy(trainlabel, trainpred)\n",
        "print(\"Training accuracy using random classifier: \", trainAccuracy*100, \"%\")"
      ]
    },
    {
      "cell_type": "markdown",
      "metadata": {
        "id": "7h08-9gJDtSy"
      },
      "source": [
        "For nearest neighbour, the train accuracy is always 1. The accuracy of the random classifier is close to 1/(number of classes) which is 0.1666 in our case. This is because the random classifier randomly assigns a label to each sample and the probability of assigning the correct label is 1/(number of classes). Let us predict the labels for our validation set and get the accuracy. This accuracy is a good estimate of the accuracy of our model on unseen data."
      ]
    },
    {
      "cell_type": "code",
      "execution_count": 11,
      "metadata": {
        "colab": {
          "base_uri": "https://localhost:8080/"
        },
        "id": "4h7bXoW_2H3v",
        "outputId": "6d6ac87f-7511-4b05-f05c-906827486d1c"
      },
      "outputs": [
        {
          "output_type": "stream",
          "name": "stdout",
          "text": [
            "Validation accuracy using nearest neighbour algorithm: 34.10852713178294 %\n",
            "Validation accuracy using random classifier: 16.884689922480618 %\n"
          ]
        }
      ],
      "source": [
        "valpred = NN(traindata, trainlabel, valdata)\n",
        "valAccuracy = Accuracy(vallabel, valpred)\n",
        "print(\"Validation accuracy using nearest neighbour algorithm:\", valAccuracy*100, \"%\")\n",
        "\n",
        "\n",
        "valpred = RandomClassifier(traindata, trainlabel, valdata)\n",
        "valAccuracy = Accuracy(vallabel, valpred)\n",
        "print(\"Validation accuracy using random classifier:\", valAccuracy*100, \"%\")"
      ]
    },
    {
      "cell_type": "markdown",
      "metadata": {
        "id": "py9bLguFEjfg"
      },
      "source": [
        "Validation accuracy of nearest neighbour is considerably less than its train accuracy while the validation accuracy of random classifier is the same. However, the validation accuracy of nearest neighbour is twice that of the random classifier. Now let us try another random split and check the validation accuracy. We will see that the validation accuracy changes with the split. This is because the validation set is small and the accuracy is highly dependent on the samples in the validation set. We can get a better estimate of the accuracy by using cross-validation."
      ]
    },
    {
      "cell_type": "code",
      "execution_count": 12,
      "metadata": {
        "colab": {
          "base_uri": "https://localhost:8080/"
        },
        "id": "ujm3cyYzEntE",
        "outputId": "39eebf8e-cee3-4ed2-b89b-3309b68f3133"
      },
      "outputs": [
        {
          "output_type": "stream",
          "name": "stdout",
          "text": [
            "Validation accuracy using nearest neighbour algorithm: 34.048257372654156 %\n"
          ]
        }
      ],
      "source": [
        "traindata, trainlabel, valdata, vallabel = split(\n",
        "    alltraindata, alltrainlabel, 75 / 100)\n",
        "valpred = NN(traindata, trainlabel, valdata)\n",
        "valAccuracy = Accuracy(vallabel, valpred)\n",
        "print(\"Validation accuracy using nearest neighbour algorithm:\", valAccuracy*100, \"%\")"
      ]
    },
    {
      "cell_type": "markdown",
      "metadata": {
        "id": "oSOx7U83EKie"
      },
      "source": [
        "You can run the above cell multiple times to try with different random splits.\n",
        "We notice that the accuracy is different for each run, but close together.\n",
        "\n",
        "Now let us compare it with the accuracy we get on the test dataset."
      ]
    },
    {
      "cell_type": "code",
      "execution_count": 13,
      "metadata": {
        "colab": {
          "base_uri": "https://localhost:8080/"
        },
        "id": "PNEZ5ToYBEDW",
        "outputId": "bb3a8dd4-fc81-44bf-e05d-94275758a227"
      },
      "outputs": [
        {
          "output_type": "stream",
          "name": "stdout",
          "text": [
            "Test accuracy: 34.91795366795367 %\n"
          ]
        }
      ],
      "source": [
        "testpred = NN(alltraindata, alltrainlabel, testdata)\n",
        "testAccuracy = Accuracy(testlabel, testpred)\n",
        "\n",
        "print(\"Test accuracy:\", testAccuracy*100, \"%\")"
      ]
    },
    {
      "cell_type": "markdown",
      "metadata": {
        "id": "w3dGD531K3gH"
      },
      "source": [
        "### Try it out for yourself and answer:\n",
        "1. How is the accuracy of the validation set affected if we increase the percentage of validation set? What happens when we reduce it?\n",
        "2. How does the size of the train and validation set affect how well we can predict the accuracy on the test set using the validation set?\n",
        "3. What do you think is a good percentage to reserve for the validation set so that thest two factors are balanced?\n",
        "\n",
        "Answer for both nearest neighbour and random classifier. You can note down the values for your experiments and plot a graph using  <a href=https://matplotlib.org/stable/gallery/lines_bars_and_markers/step_demo.html#sphx-glr-gallery-lines-bars-and-markers-step-demo-py>plt.plot<href>. Check also for extreme values for splits, like 99.9% or 0.1%"
      ]
    },
    {
      "cell_type": "markdown",
      "metadata": {
        "id": "M9zvdYY6evgI"
      },
      "source": [
        "> Exercise: Try to implement a 3 nearest neighbour classifier and compare the accuracy of the 1 nearest neighbour classifier and the 3 nearest neighbour classifier on the test dataset. You can use the KNeighborsClassifier class from the scikit-learn library to implement the K-Nearest Neighbors model. You can set the number of neighbors using the n_neighbors parameter. You can also use the accuracy_score function from the scikit-learn library to calculate the accuracy of the model."
      ]
    },
    {
      "cell_type": "markdown",
      "metadata": {
        "id": "PnYvkAZLQY7h"
      },
      "source": [
        "## Multiple Splits\n",
        "\n",
        "One way to get more accurate estimates for the test accuracy is by using <b>cross-validation</b>. Here, we will try a simple version, where we do multiple train/val splits and take the average of validation accuracies as the test accuracy estimation. Here is a function for doing this. Note that this function will take a long time to execute. You can reduce the number of splits to make it faster."
      ]
    },
    {
      "cell_type": "code",
      "execution_count": 14,
      "metadata": {
        "id": "E4nGCUQXBTzo"
      },
      "outputs": [],
      "source": [
        "def AverageAccuracy(alldata, alllabel, splitpercent, iterations, classifier=NN):\n",
        "    \"\"\"\n",
        "    This function takes in the data, labels, split percentage, number of iterations and classifier function\n",
        "    and returns the average accuracy of the classifier\n",
        "\n",
        "    alldata: numpy array of shape (n,d) where n is the number of samples and d is the number of features\n",
        "    alllabel: numpy array of shape (n,) where n is the number of samples\n",
        "    splitpercent: float which is the percentage of data to be used for training\n",
        "    iterations: int which is the number of iterations to run the classifier\n",
        "    classifier: function which is the classifier function to be used\n",
        "\n",
        "    returns: the average accuracy of the classifier\n",
        "    \"\"\"\n",
        "    accuracy = 0\n",
        "    for ii in range(iterations):\n",
        "        traindata, trainlabel, valdata, vallabel = split(\n",
        "            alldata, alllabel, splitpercent\n",
        "        )\n",
        "        valpred = classifier(traindata, trainlabel, valdata)\n",
        "        accuracy += Accuracy(vallabel, valpred)\n",
        "    return accuracy / iterations  # average of all accuracies"
      ]
    },
    {
      "cell_type": "code",
      "execution_count": 15,
      "metadata": {
        "colab": {
          "base_uri": "https://localhost:8080/"
        },
        "id": "H3qtNar7Bbik",
        "outputId": "03d635bb-bafd-4e4b-80ab-c0b94a9a86c1"
      },
      "outputs": [
        {
          "output_type": "stream",
          "name": "stdout",
          "text": [
            "Average validation accuracy: 33.58463539517022 %\n",
            "Test accuracy: 34.91795366795367 %\n"
          ]
        }
      ],
      "source": [
        "avg_acc = AverageAccuracy(alltraindata, alltrainlabel, 75 / 100, 10, classifier=NN)\n",
        "print(\"Average validation accuracy:\", avg_acc*100, \"%\")\n",
        "testpred = NN(alltraindata, alltrainlabel, testdata)\n",
        "\n",
        "print(\"Test accuracy:\", Accuracy(testlabel, testpred)*100, \"%\")"
      ]
    },
    {
      "cell_type": "markdown",
      "metadata": {
        "id": "33GIn4x5VH-d"
      },
      "source": [
        "This is a very simple way of doing cross-validation. There are many well-known algorithms for cross-validation, like k-fold cross-validation, leave-one-out etc. This will be covered in detail in a later module. For more information about cross-validation, check <a href=https://en.wikipedia.org/wiki/Cross-validation_(statistics)>Cross-validatioin (Wikipedia)</a>\n",
        "\n",
        "### Questions\n",
        "1. Does averaging the validation accuracy across multiple splits give more consistent results?\n",
        "2. Does it give more accurate estimate of test accuracy?\n",
        "3. What is the effect of the number of iterations on the estimate? Do we get a better estimate with higher iterations?\n",
        "4. Consider the results you got for the previous questions. Can we deal with a very small train dataset or validation dataset by increasing the iterations?\n"
      ]
    },
    {
      "cell_type": "markdown",
      "metadata": {
        "id": "z-SBxy1qevgJ"
      },
      "source": [
        "> Exercise: How does the accuracy of the 3 nearest neighbour classifier change with the number of splits? How is it affected by the split size? Compare the results with the 1 nearest neighbour classifier."
      ]
    },
    {
      "cell_type": "markdown",
      "source": [],
      "metadata": {
        "id": "RXxyZ_Ms3zew"
      }
    },
    {
      "cell_type": "markdown",
      "source": [
        "1st answer"
      ],
      "metadata": {
        "id": "H72ikHnn26aF"
      }
    },
    {
      "cell_type": "markdown",
      "source": [
        "Yes, averaging the validation accuracy across multiple splits generally leads to more consistent and reliable estimates of a model’s performance. Here's why and how it works:\n",
        "\n",
        "### **1. Reduction of Variance**\n",
        "- **Single Split Issues**: Relying on a single train-validation split can result in high variance in validation accuracy because the performance might heavily depend on how the data is partitioned. Some splits might inadvertently make the task easier or harder for the model.\n",
        "- **Multiple Splits Advantage**: By averaging across multiple splits, you mitigate the risk of having an unrepresentative split. This averaging smooths out the fluctuations caused by different data partitions, leading to a more stable estimate.\n",
        "\n",
        "### **2. Improved Generalization**\n",
        "- **Broader Evaluation**: Multiple splits ensure that every data point gets a chance to be in the validation set. This comprehensive evaluation provides a better understanding of how the model might perform on unseen data.\n",
        "- **Overfitting Mitigation**: By testing the model across various subsets, you reduce the likelihood that the model is simply memorizing patterns specific to a single validation set.\n",
        "\n",
        "### **3. Mitigation of Bias**\n",
        "- **Balanced Assessment**: Certain splits might unintentionally introduce bias, especially if the data is not uniformly distributed. Multiple splits help average out these biases, providing a more objective performance measure.\n",
        "- **Handling Data Imbalances**: When dealing with imbalanced datasets, multiple splits (especially stratified ones) ensure that each class is adequately represented in both training and validation sets across different splits.\n",
        "\n",
        "### **4. Enhanced Robustness**\n",
        "- **Consistency Across Scenarios**: Averaging across multiple splits ensures that the performance metrics are not overly dependent on any single partitioning of the data, leading to a more robust evaluation.\n",
        "- **Detection of Anomalies**: If certain splits consistently yield lower or higher accuracies, it might indicate underlying issues with the data or the model that need to be addressed.\n",
        "\n",
        "### **Common Methods Utilizing Multiple Splits**\n",
        "\n",
        "- **k-Fold Cross-Validation**: The dataset is divided into *k* equal parts. The model is trained *k* times, each time using a different fold as the validation set and the remaining folds as the training set. The final performance metric is the average of the *k* validation accuracies.\n",
        "  \n",
        "- **Repeated Cross-Validation**: This involves performing k-fold cross-validation multiple times with different random splits to further ensure robustness.\n",
        "\n",
        "- **Shuffle Split**: Randomly splits the data into training and validation sets multiple times, allowing for overlapping splits and averaging the results.\n",
        "\n",
        "### **Considerations and Potential Drawbacks**\n",
        "\n",
        "- **Computational Cost**: Training the model multiple times (once for each split) can be computationally intensive, especially for large datasets or complex models.\n",
        "  \n",
        "- **Data Leakage**: Ensure that the data splitting is done correctly to prevent information from the validation set leaking into the training process, which can artificially inflate performance metrics.\n",
        "  \n",
        "- **Implementation Complexity**: Managing multiple splits requires careful implementation to ensure consistency and proper averaging of results.\n",
        "\n",
        "### **Best Practices**\n",
        "\n",
        "1. **Use Stratified Splits for Classification**: Ensure that each split maintains the same class distribution as the overall dataset to handle imbalanced classes effectively.\n",
        "\n",
        "2. **Consistent Preprocessing**: Apply the same data preprocessing steps across all splits to maintain consistency.\n",
        "\n",
        "3. **Random Seed Control**: Set a random seed for reproducibility, especially when performing repeated or shuffled splits.\n",
        "\n",
        "4. **Monitor Computational Resources**: Be mindful of the increased computational requirements and optimize your workflow accordingly, possibly by parallelizing the training process if resources allow.\n",
        "\n",
        "### **Conclusion**"
      ],
      "metadata": {
        "id": "msFHoF3C28xo"
      }
    },
    {
      "cell_type": "markdown",
      "source": [
        "2nd answer"
      ],
      "metadata": {
        "id": "XZd7Mtxu3Tni"
      }
    },
    {
      "cell_type": "markdown",
      "source": [
        "Yes, averaging the validation accuracy across multiple splits typically provides a more accurate and reliable estimate of a model's **test accuracy** compared to using a single train-validation split. Here's an in-depth explanation of why this is the case, along with important considerations to keep in mind:\n",
        "\n",
        "---\n",
        "\n",
        "## **1. Understanding Test Accuracy Estimation**\n",
        "\n",
        "**Test Accuracy** refers to how well your trained model performs on unseen data. Since we don't have access to the actual test set during training, we rely on validation techniques to estimate this metric. The goal is to have this estimate as close as possible to the true test accuracy.\n",
        "\n",
        "---\n",
        "\n",
        "## **2. Single Train-Validation Split vs. Multiple Splits**\n",
        "\n",
        "### **Single Train-Validation Split**\n",
        "\n",
        "- **Pros:**\n",
        "  - **Simplicity:** Easy to implement and computationally less intensive.\n",
        "  - **Speed:** Faster since the model is trained and evaluated only once.\n",
        "\n",
        "- **Cons:**\n",
        "  - **High Variance:** The estimate can significantly vary depending on how the data is split.\n",
        "  - **Potential Bias:** If the split is not representative of the overall data distribution, the estimate may be biased.\n",
        "  - **Underutilization of Data:** Only a portion of the data is used for training and validation each time.\n",
        "\n",
        "### **Multiple Splits (e.g., k-Fold Cross-Validation)**\n",
        "\n",
        "- **Pros:**\n",
        "  - **Reduced Variance:** Averaging across multiple splits smooths out fluctuations, leading to a more stable estimate.\n",
        "  - **Less Bias:** Ensures that every data point has a chance to be in the validation set, making the estimate more representative.\n",
        "  - **Better Data Utilization:** More of the data is used for both training and validation across different splits.\n",
        "\n",
        "- **Cons:**\n",
        "  - **Computational Overhead:** Requires training the model multiple times, which can be time-consuming.\n",
        "  - **Implementation Complexity:** Managing multiple splits and aggregating results can be more complex.\n",
        "\n",
        "---\n",
        "\n",
        "## **3. Why Averaging Across Multiple Splits Yields a More Accurate Estimate**\n",
        "\n",
        "### **a. Mitigation of Split-Dependent Variability**\n",
        "\n",
        "- **Consistency Across Splits:** Different splits can lead to different validation accuracies due to varying data distributions. By averaging, you minimize the impact of any single anomalous split.\n",
        "  \n",
        "- **Comprehensive Evaluation:** Ensures that the model is tested against various subsets of data, capturing a wider range of scenarios and patterns.\n",
        "\n",
        "### **b. Enhanced Generalization Insight**\n",
        "\n",
        "- **Robust Performance Metrics:** Averaging provides a central tendency measure (like mean accuracy) that is less sensitive to outliers, offering a more reliable estimate of how the model might perform on truly unseen data.\n",
        "\n",
        "- **Detection of Instability:** Multiple splits can reveal if the model's performance is unstable across different data subsets, indicating potential issues like overfitting.\n",
        "\n",
        "### **c. Reduction of Overfitting Risk**\n",
        "\n",
        "- **Balanced Training and Validation:** By exposing the model to multiple training and validation sets, the risk that the model is overfitting to a particular validation set is reduced.\n",
        "\n",
        "---\n",
        "\n",
        "## **4. Common Techniques Employing Multiple Splits**\n",
        "\n",
        "### **a. k-Fold Cross-Validation**\n",
        "\n",
        "- **Procedure:** The dataset is divided into *k* equal-sized folds. The model is trained *k* times, each time using a different fold as the validation set and the remaining *k-1* folds for training.\n",
        "  \n",
        "- **Benefit:** Each data point is used for both training and validation, providing a comprehensive performance evaluation.\n",
        "\n",
        "### **b. Stratified k-Fold Cross-Validation**\n",
        "\n",
        "- **Procedure:** Similar to k-Fold, but each fold maintains the same class distribution as the entire dataset. This is especially useful for imbalanced datasets.\n",
        "\n",
        "- **Benefit:** Ensures that each fold is representative of the overall data distribution, leading to more accurate estimates.\n",
        "\n",
        "### **c. Leave-One-Out Cross-Validation (LOOCV)**\n",
        "\n",
        "- **Procedure:** Each data point serves as its own validation set, and the model is trained on all other data points.\n",
        "\n",
        "- **Benefit:** Maximizes the training data used in each iteration, though it can be computationally expensive for large datasets.\n",
        "\n",
        "---\n",
        "\n",
        "## **5. Important Considerations and Caveats**\n",
        "\n",
        "### **a. Computational Cost**\n",
        "\n",
        "- **Impact:** Training models multiple times can be resource-intensive, especially with large datasets or complex models.\n",
        "\n",
        "- **Mitigation:** Utilize parallel computing resources or opt for a smaller *k* in k-Fold cross-validation to balance computational load and estimation accuracy.\n",
        "\n",
        "### **b. Data Leakage**\n",
        "\n",
        "- **Risk:** Improper splitting can lead to information from the validation set leaking into the training process, artificially inflating validation accuracy.\n",
        "\n",
        "- **Prevention:** Ensure strict separation between training and validation data in each split, and apply all preprocessing steps within each training-validation iteration.\n",
        "\n",
        "### **c. Model Selection and Hyperparameter Tuning**\n",
        "\n",
        "- **Complexity:** If cross-validation is used for both estimating test accuracy and tuning hyperparameters, there’s a risk of overfitting to the validation data.\n",
        "\n",
        "- **Solution:** Implement nested cross-validation, where an inner loop handles hyperparameter tuning and an outer loop estimates the generalization performance.\n",
        "\n",
        "### **d. Representativeness of Data Splits**\n",
        "\n",
        "- **Challenge:** Even with multiple splits, if the dataset has inherent biases or is not representative of the real-world scenario, the estimate may still be inaccurate.\n",
        "\n",
        "- **Approach:** Ensure that the dataset is as diverse and representative as possible, and consider domain-specific validation strategies if necessary.\n",
        "\n",
        "---\n",
        "\n",
        "## **6. Best Practices for Accurate Test Accuracy Estimation**\n",
        "\n",
        "1. **Use Stratified Splits for Classification Tasks:**\n",
        "   - Maintain class distribution across all splits to handle imbalanced datasets effectively.\n",
        "\n",
        "2. **Implement Nested Cross-Validation for Hyperparameter Tuning:**\n",
        "   - Separate the processes of model selection and performance estimation to avoid biased estimates.\n",
        "\n",
        "3. **Ensure Proper Data Preprocessing Within Each Split:**\n",
        "   - Apply scaling, encoding, and other preprocessing steps within each training-validation iteration to prevent data leakage.\n",
        "\n",
        "4. **Maintain an Independent Test Set:**\n",
        "   - After cross-validation, evaluate the final model on a completely independent test set to obtain an unbiased estimate of test accuracy.\n",
        "\n",
        "5. **Set Random Seeds for Reproducibility:**\n",
        "   - Ensure that splits are reproducible by setting random seeds, which is crucial for consistent evaluation.\n",
        "\n",
        "6. **Monitor and Manage Computational Resources:**\n",
        "   - Optimize code and utilize efficient algorithms to handle the increased computational demands of multiple splits.\n",
        "\n",
        "---"
      ],
      "metadata": {
        "id": "RrQ8iGsj3ZzW"
      }
    },
    {
      "cell_type": "markdown",
      "source": [
        "3rd answer"
      ],
      "metadata": {
        "id": "WNRRrYEm31qf"
      }
    },
    {
      "cell_type": "markdown",
      "source": [
        "Yes, increasing the number of iterations typically leads to a better estimate in iterative methods, especially in numerical simulations and algorithms like Monte Carlo simulations, optimization techniques, and machine learning training processes.\n",
        "\n",
        "Here’s how more iterations affect the estimate:\n",
        "\n",
        "1. **Increased Accuracy**: More iterations generally allow the algorithm to explore more of the solution space or refine the estimate. For methods that rely on randomness or approximations (e.g., Monte Carlo simulations), more iterations average out fluctuations and provide a more accurate result.\n",
        "\n",
        "2. **Convergence**: For iterative optimization algorithms (like gradient descent), more iterations help the algorithm converge towards the optimal solution. However, after a certain point, the improvements may become very small.\n",
        "\n",
        "3. **Reduction of Variance**: For simulations or random sampling methods, higher iterations tend to reduce the variance of the estimate, meaning the result becomes more stable and reliable over time.\n",
        "\n",
        "4. **Diminishing Returns**: There is often a point where increasing the number of iterations leads to diminishing returns. The improvements in the estimate become smaller with each additional iteration, and the computational cost might outweigh the benefits.\n",
        "\n",
        "5. **Overfitting (in some cases)**: In machine learning, too many iterations during training can sometimes lead to overfitting, where the model becomes too tailored to the training data and performs worse on unseen data. However, this can often be controlled with techniques like early stopping or regularization.\n",
        "\n",
        "."
      ],
      "metadata": {
        "id": "Q6Kl7YXT33Zn"
      }
    },
    {
      "cell_type": "markdown",
      "source": [
        "4th answer"
      ],
      "metadata": {
        "id": "K_SScBa34NzF"
      }
    },
    {
      "cell_type": "markdown",
      "source": [
        "Yes, monitoring computational resources is essential when increasing the number of iterations in resource-intensive processes. As you pointed out, optimizing the workflow and parallelizing computations can help manage the trade-off between better estimates and computational cost. Here are a few strategies to consider when monitoring and optimizing computational resources:\n",
        "\n",
        "### 1. **Resource Utilization Monitoring**\n",
        "   - **CPU/GPU Usage**: Track the usage of your CPU or GPU to ensure that you are not overloading or underutilizing resources.\n",
        "   - **Memory Usage**: Keep an eye on RAM and VRAM, as memory constraints can slow down or crash processes. Use tools like `nvidia-smi` for GPU monitoring or system resource monitors like `htop`.\n",
        "   - **Disk Usage and I/O**: Ensure that your disk read/write speeds are optimized and check for bottlenecks related to input/output operations.\n",
        "\n",
        "### 2. **Parallelization and Distributed Computing**\n",
        "   - **Parallel Processing**: Split your tasks across multiple CPUs or GPUs to process iterations in parallel. This can significantly reduce training or computation time. In Python, libraries like `multiprocessing` or `Dask` can be useful.\n",
        "   - **Distributed Training**: For deep learning models, frameworks like TensorFlow, PyTorch, and Horovod allow distributed training across multiple nodes or GPUs, enhancing the scale of computation.\n",
        "   - **Batch Processing**: In algorithms like gradient descent, using mini-batches (for stochastic gradient descent) allows for more efficient use of resources by processing smaller chunks of data in parallel.\n",
        "\n",
        "### 3. **Optimize Code and Algorithms**\n",
        "   - **Algorithm Efficiency**: Review the algorithm’s efficiency. Use vectorized operations (e.g., with NumPy, TensorFlow, or PyTorch) and avoid loops where possible.\n",
        "   - **Early Stopping**: Implement early stopping criteria in optimization algorithms or machine learning training to avoid unnecessary iterations once the performance improvements diminish.\n",
        "   - **Caching Intermediate Results**: In some simulations or iterative processes, caching frequently used results can avoid redundant computations, speeding up the process.\n",
        "   \n",
        "### 4. **Dynamic Resource Allocation**\n",
        "   - **Autoscaling**: If working in cloud environments (AWS, GCP, Azure), use autoscaling to dynamically allocate resources based on demand, which can help balance performance and cost.\n",
        "   - **GPU Selection**: Choose GPUs that balance your specific requirements (e.g., memory, cores) based on the workload. For example, models that require more matrix operations benefit from GPUs with more CUDA cores, while those with larger datasets benefit from higher VRAM capacity.\n",
        "\n",
        "### 5. **Profiling and Bottleneck Identification**\n",
        "   - **Code Profiling**: Use profiling tools (e.g., `cProfile` or line_profiler in Python) to identify bottlenecks in your code and optimize those sections for faster execution.\n",
        "   - **Memory Profiling**: Tools like `memory_profiler` can help you understand how much memory each part of the program uses and where optimizations can be made.\n",
        "\n",
        "### 6. **Mixed Precision Training (Deep Learning)**\n",
        "   - For deep learning models, mixed precision training (i.e., using lower precision floating point formats like FP16) can reduce memory and computation requirements, speeding up training without significantly affecting the quality of the results."
      ],
      "metadata": {
        "id": "WxgeaZJ94Po9"
      }
    }
  ],
  "metadata": {
    "colab": {
      "provenance": [],
      "include_colab_link": true
    },
    "kernelspec": {
      "display_name": "Python 3",
      "name": "python3"
    },
    "language_info": {
      "codemirror_mode": {
        "name": "ipython",
        "version": 3
      },
      "file_extension": ".py",
      "mimetype": "text/x-python",
      "name": "python",
      "nbconvert_exporter": "python",
      "pygments_lexer": "ipython3",
      "version": "3.10.10"
    }
  },
  "nbformat": 4,
  "nbformat_minor": 0
}